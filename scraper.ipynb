{
 "cells": [
  {
   "cell_type": "markdown",
   "metadata": {},
   "source": [
    "#### Selenium setup"
   ]
  },
  {
   "cell_type": "code",
   "execution_count": 1,
   "metadata": {},
   "outputs": [],
   "source": [
    "from selenium import webdriver\n",
    "from selenium.webdriver.chrome.service import Service\n",
    "from selenium.webdriver.common.by import By\n",
    "from webdriver_manager.chrome import ChromeDriverManager\n",
    "import time\n",
    "\n",
    "\n",
    "chrome_driver_path = r\"C:\\Users\\Dante Clark\\Desktop\\chromedriver.exe\"\n",
    "\n",
    "URL = \"https://hunterxhunter.fandom.com/wiki/List_of_Volumes_and_Chapters\"\n",
    "\n",
    "driver = webdriver.Chrome(service=Service(ChromeDriverManager().install()))\n",
    "driver.get(URL)"
   ]
  },
  {
   "cell_type": "markdown",
   "metadata": {},
   "source": [
    "#### Pandas setup"
   ]
  },
  {
   "cell_type": "code",
   "execution_count": 2,
   "metadata": {},
   "outputs": [],
   "source": [
    "import pandas as pd\n",
    "\n",
    "pd.set_option('display.max_rows', None)\n",
    "pd.set_option('display.max_columns', None)\n",
    "pd.set_option('display.width', 1000)\n",
    "pd.set_option('display.colheader_justify', 'center')\n",
    "pd.set_option('display.precision', 3)"
   ]
  },
  {
   "cell_type": "code",
   "execution_count": 3,
   "metadata": {},
   "outputs": [],
   "source": [
    "titles = []\n",
    "dates = []\n",
    "volumes = []\n",
    "\n",
    "time.sleep(2)\n",
    "\n",
    "for title in driver.find_elements(By.XPATH, \"//td/a\"):\n",
    "    titles.append(title.text)\n",
    "\n",
    "for date in driver.find_elements(By.XPATH, \"//tr//td[3]\")[::2]:\n",
    "    dates.append(date.text)\n",
    "\n",
    "for volume in driver.find_elements(By.XPATH, \"//tr//td[@colspan=2]//ul//li/a[@title]\"):\n",
    "    volumes.append(volume.text)\n"
   ]
  },
  {
   "cell_type": "code",
   "execution_count": 4,
   "metadata": {},
   "outputs": [],
   "source": [
    "import pandas as pd"
   ]
  },
  {
   "cell_type": "code",
   "execution_count": 7,
   "metadata": {},
   "outputs": [
    {
     "name": "stdout",
     "output_type": "stream",
     "text": [
      "37 37 382\n"
     ]
    }
   ],
   "source": [
    "\n",
    "print(len(titles), len(dates), len(volumes))\n",
    "\n",
    "data = {\n",
    "    \"title\": titles,\n",
    "    \"japanese release\": dates\n",
    "}\n",
    "\n",
    "df = pd.DataFrame(data=data)\n",
    "\n",
    "display(df)"
   ]
  }
 ],
 "metadata": {
  "kernelspec": {
   "display_name": "Python 3.10.5 64-bit",
   "language": "python",
   "name": "python3"
  },
  "language_info": {
   "codemirror_mode": {
    "name": "ipython",
    "version": 3
   },
   "file_extension": ".py",
   "mimetype": "text/x-python",
   "name": "python",
   "nbconvert_exporter": "python",
   "pygments_lexer": "ipython3",
   "version": "3.10.5"
  },
  "orig_nbformat": 4,
  "vscode": {
   "interpreter": {
    "hash": "a8f4e2e1c037969bfee3c27a5ebecc6d9593fa35cf12bd216cbfff08086fd545"
   }
  }
 },
 "nbformat": 4,
 "nbformat_minor": 2
}
