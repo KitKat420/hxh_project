{
 "cells": [
  {
   "cell_type": "code",
   "execution_count": 7,
   "metadata": {},
   "outputs": [
    {
     "name": "stderr",
     "output_type": "stream",
     "text": [
      "[WDM] - Downloading: 100%|██████████| 6.68M/6.68M [00:00<00:00, 23.1MB/s]\n"
     ]
    },
    {
     "ename": "NameError",
     "evalue": "name 'time' is not defined",
     "output_type": "error",
     "traceback": [
      "\u001b[1;31m---------------------------------------------------------------------------\u001b[0m",
      "\u001b[1;31mNameError\u001b[0m                                 Traceback (most recent call last)",
      "\u001b[1;32mc:\\Users\\Dante Clark\\Desktop\\hxh_project\\scraper.ipynb Cell 1\u001b[0m in \u001b[0;36m<cell line: 12>\u001b[1;34m()\u001b[0m\n\u001b[0;32m      <a href='vscode-notebook-cell:/c%3A/Users/Dante%20Clark/Desktop/hxh_project/scraper.ipynb#W0sZmlsZQ%3D%3D?line=8'>9</a>\u001b[0m driver \u001b[39m=\u001b[39m webdriver\u001b[39m.\u001b[39mChrome(service\u001b[39m=\u001b[39mService(ChromeDriverManager()\u001b[39m.\u001b[39minstall()))\n\u001b[0;32m     <a href='vscode-notebook-cell:/c%3A/Users/Dante%20Clark/Desktop/hxh_project/scraper.ipynb#W0sZmlsZQ%3D%3D?line=9'>10</a>\u001b[0m driver\u001b[39m.\u001b[39mget(URL)\n\u001b[1;32m---> <a href='vscode-notebook-cell:/c%3A/Users/Dante%20Clark/Desktop/hxh_project/scraper.ipynb#W0sZmlsZQ%3D%3D?line=11'>12</a>\u001b[0m time\u001b[39m.\u001b[39msleep(\u001b[39m2\u001b[39m)\n",
      "\u001b[1;31mNameError\u001b[0m: name 'time' is not defined"
     ]
    }
   ],
   "source": [
    "from selenium import webdriver\n",
    "from selenium.webdriver.chrome.service import Service\n",
    "from webdriver_manager.chrome import ChromeDriverManager\n",
    "\n",
    "chrome_driver_path = r\"C:\\Users\\Dante Clark\\Desktop\\chromedriver.exe\"\n",
    "\n",
    "URL = \"https://hunterxhunter.fandom.com/wiki/List_of_Volumes_and_Chapters\"\n",
    "\n",
    "driver = webdriver.Chrome(service=Service(ChromeDriverManager().install()))\n",
    "driver.get(URL)"
   ]
  },
  {
   "cell_type": "code",
   "execution_count": null,
   "metadata": {},
   "outputs": [],
   "source": []
  }
 ],
 "metadata": {
  "kernelspec": {
   "display_name": "Python 3.10.5 64-bit",
   "language": "python",
   "name": "python3"
  },
  "language_info": {
   "codemirror_mode": {
    "name": "ipython",
    "version": 3
   },
   "file_extension": ".py",
   "mimetype": "text/x-python",
   "name": "python",
   "nbconvert_exporter": "python",
   "pygments_lexer": "ipython3",
   "version": "3.10.5"
  },
  "orig_nbformat": 4,
  "vscode": {
   "interpreter": {
    "hash": "a8f4e2e1c037969bfee3c27a5ebecc6d9593fa35cf12bd216cbfff08086fd545"
   }
  }
 },
 "nbformat": 4,
 "nbformat_minor": 2
}
